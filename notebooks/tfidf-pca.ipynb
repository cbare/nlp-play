{
 "cells": [
  {
   "cell_type": "markdown",
   "metadata": {},
   "source": [
    "# Topic Vectors\n",
    "\n",
    "An experiment in creating document topic vectors by TFIDF and PCA."
   ]
  },
  {
   "cell_type": "code",
   "execution_count": 1,
   "metadata": {},
   "outputs": [],
   "source": [
    "import json\n",
    "from pathlib import Path"
   ]
  },
  {
   "cell_type": "code",
   "execution_count": 2,
   "metadata": {},
   "outputs": [],
   "source": [
    "from sklearn.feature_extraction.text import TfidfVectorizer\n",
    "from sklearn.decomposition import PCA"
   ]
  },
  {
   "cell_type": "code",
   "execution_count": 19,
   "metadata": {},
   "outputs": [],
   "source": [
    "import pandas as pd\n",
    "from matplotlib import pyplot as plt"
   ]
  },
  {
   "cell_type": "code",
   "execution_count": 8,
   "metadata": {},
   "outputs": [
    {
     "name": "stdout",
     "output_type": "stream",
     "text": [
      "/Users/christopherbare/Documents/personal/nlp-play\n"
     ]
    }
   ],
   "source": [
    "cd .."
   ]
  },
  {
   "cell_type": "code",
   "execution_count": 9,
   "metadata": {},
   "outputs": [],
   "source": [
    "path = Path('./data/')"
   ]
  },
  {
   "cell_type": "markdown",
   "metadata": {},
   "source": [
    "## Iterate documents\n",
    "\n",
    "After scraping documents from Wikipedia, we'll have subdirectories for each topic. We use a generator to read the files and yield JSON documents."
   ]
  },
  {
   "cell_type": "code",
   "execution_count": 25,
   "metadata": {},
   "outputs": [],
   "source": [
    "def iter_pages(path):\n",
    "    for d in path.iterdir():\n",
    "        if d.is_dir():\n",
    "            label = d.name\n",
    "            for p in d.iterdir():\n",
    "                with p.open() as f:\n",
    "                    page = json.load(f)\n",
    "                yield label, page"
   ]
  },
  {
   "cell_type": "code",
   "execution_count": 32,
   "metadata": {},
   "outputs": [],
   "source": [
    "xs = [(label, page['title']) for label, page in iter_pages(path)]\n",
    "labels = [x[0] for x in xs]\n",
    "titles = [x[1] for x in xs]"
   ]
  },
  {
   "cell_type": "code",
   "execution_count": 33,
   "metadata": {},
   "outputs": [
    {
     "data": {
      "text/plain": [
       "90"
      ]
     },
     "execution_count": 33,
     "metadata": {},
     "output_type": "execute_result"
    }
   ],
   "source": [
    "len(titles)"
   ]
  },
  {
   "cell_type": "code",
   "execution_count": 34,
   "metadata": {},
   "outputs": [],
   "source": [
    "tfidf = TfidfVectorizer()\n",
    "X = tfidf.fit_transform(page['extract'] for label, page in iter_pages(path))"
   ]
  },
  {
   "cell_type": "code",
   "execution_count": 35,
   "metadata": {},
   "outputs": [],
   "source": [
    "pca = PCA(n_components=2)\n",
    "Y = pca.fit_transform(X.todense())"
   ]
  },
  {
   "cell_type": "code",
   "execution_count": 37,
   "metadata": {},
   "outputs": [
    {
     "name": "stdout",
     "output_type": "stream",
     "text": [
      "writers          Charles Dickens              -0.1315    -0.0989\n",
      "writers          Isaac Asimov                 -0.0826     0.0088\n",
      "writers          Neal Stephenson              -0.0335     0.0466\n",
      "writers          Jane Austen                  -0.0997     0.0451\n",
      "writers          Philip K. Dick               -0.1304    -0.0456\n",
      "writers          Jorge Luis Borges            -0.1283    -0.0233\n",
      "writers          Douglas Adams                -0.0663    -0.0380\n",
      "writers          Edgar Allan Poe               0.0574     0.1970\n",
      "writers          James Joyce                  -0.1168    -0.0655\n",
      "writers          Kurt Vonnegut                -0.0647    -0.0187\n",
      "writers          William Gibson               -0.1263    -0.0452\n",
      "writers          George Orwell                -0.1405    -0.1448\n",
      "writers          Don DeLillo                  -0.0820     0.0098\n",
      "writers          Dave Eggers                  -0.0935     0.0221\n",
      "writers          F. Scott Fitzgerald          -0.0409    -0.0269\n",
      "writers          Ursula K. Le Guin            -0.1250     0.0820\n",
      "writers          Margaret Atwood              -0.0878     0.1049\n",
      "writers          Jennifer Egan                 0.0052     0.1871\n",
      "writers          Frank Herbert                -0.0384     0.0451\n",
      "writers          Iain Banks                   -0.0768     0.0372\n",
      "writers          Ray Bradbury                 -0.0385     0.0021\n",
      "writers          E. B. White                  -0.1208    -0.0444\n",
      "writers          Franz Kafka                  -0.0777    -0.0199\n",
      "writers          Albert Camus                 -0.0719     0.0138\n",
      "writers          C. S. Lewis                  -0.1628    -0.1189\n",
      "writers          Haruki Murakami              -0.0423     0.0131\n",
      "writers          Ernest Hemingway             -0.1070    -0.1130\n",
      "writers          Mark Twain                   -0.1635    -0.1344\n",
      "writers          Cormac McCarthy              -0.0786    -0.0333\n",
      "writers          J. D. Salinger               -0.0669    -0.0071\n",
      "scientists       Barbara McClintock           -0.1256     0.1199\n",
      "scientists       John von Neumann             -0.1672     0.0305\n",
      "scientists       David Hilbert                -0.1347     0.0807\n",
      "scientists       Max Planck                   -0.1304     0.0086\n",
      "scientists       Gregor Mendel                -0.0438     0.1126\n",
      "scientists       Terence Tao                  -0.0603     0.1312\n",
      "scientists       Kurt Gödel                   -0.0876     0.0896\n",
      "scientists       Enrico Fermi                 -0.1289    -0.0065\n",
      "scientists       Henri Poincaré               -0.1021     0.1316\n",
      "scientists       Louis Pasteur                -0.0726     0.0334\n",
      "scientists       Noam Chomsky                 -0.0907     0.0030\n",
      "scientists       Charles Babbage              -0.1210     0.0895\n",
      "scientists       Alonzo Church                -0.0712     0.1355\n",
      "scientists       Marie Curie                  -0.1282     0.0970\n",
      "scientists       Albert Einstein              -0.1938    -0.0654\n",
      "scientists       Francis Crick                -0.1559     0.0826\n",
      "scientists       Linus Pauling                -0.1433     0.0255\n",
      "scientists       Frederick Sanger             -0.0909    -0.0121\n",
      "scientists       Paul Dirac                   -0.1381     0.0073\n",
      "scientists       Leonhard Euler               -0.1064     0.0736\n",
      "scientists       Charles Darwin               -0.1374    -0.0713\n",
      "scientists       James Watson                 -0.1364     0.0803\n",
      "scientists       Michael Faraday              -0.1057     0.0272\n",
      "scientists       Pierre de Fermat             -0.0278     0.1488\n",
      "scientists       Niels Bohr                   -0.1008     0.0250\n",
      "scientists       James Clerk Maxwell          -0.1850    -0.0183\n",
      "scientists       Claude Shannon               -0.0612     0.1066\n",
      "scientists       Thomas Bayes                 -0.0919     0.1256\n",
      "scientists       Alan Turing                  -0.1471    -0.0016\n",
      "scientists       Richard Feynman              -0.0865     0.0372\n",
      "scientists       Ada Lovelace                 -0.0661     0.1908\n",
      "scientists       Jonas Salk                   -0.0914    -0.0074\n",
      "scientists       Donald Knuth                 -0.0712     0.1236\n",
      "scientists       Rosalind Franklin            -0.1702     0.0889\n",
      "scientists       Dmitri Mendeleev             -0.1248     0.0152\n",
      "scientists       Isaac Newton                 -0.1878    -0.0220\n",
      "scientists       Carl Friedrich Gauss         -0.0986     0.0568\n",
      "jazz_musicians   Ron Carter                    0.3010    -0.1600\n",
      "jazz_musicians   Bill Evans                    0.2076    -0.2610\n",
      "jazz_musicians   Philly Joe Jones              0.6276     0.2316\n",
      "jazz_musicians   Hank Mobley                   0.2342    -0.0994\n",
      "jazz_musicians   Eddie Gómez                   0.4946     0.1292\n",
      "jazz_musicians   Sonny Clark                   0.6232     0.3706\n",
      "jazz_musicians   Herbie Hancock                0.1948    -0.2127\n",
      "jazz_musicians   McCoy Tyner                   0.2340    -0.2418\n",
      "jazz_musicians   Miles Davis                   0.1045    -0.3343\n",
      "jazz_musicians   Bud Powell                    0.2701     0.0064\n",
      "jazz_musicians   Jim Hall (musician)           0.2313    -0.2853\n",
      "jazz_musicians   John Coltrane                 0.1201    -0.2757\n",
      "jazz_musicians   Cannonball Adderley           0.2001    -0.1461\n",
      "jazz_musicians   Kenny Burrell                 0.6101     0.2865\n",
      "jazz_musicians   Charlie Parker                0.0931    -0.1921\n",
      "jazz_musicians   Wes Montgomery                0.2748    -0.0841\n",
      "jazz_musicians   Thelonious Monk               0.1662    -0.1607\n",
      "jazz_musicians   Paul Chambers                 0.2890    -0.2211\n",
      "jazz_musicians   Sonny Rollins                 0.1218    -0.2268\n",
      "jazz_musicians   Scott LaFaro                  0.2743    -0.1280\n",
      "jazz_musicians   Milt Jackson                  0.4038     0.0781\n",
      "jazz_musicians   Paul Motian                   0.2722    -0.0689\n",
      "jazz_musicians   Art Pepper                    0.3664     0.0849\n"
     ]
    }
   ],
   "source": [
    "for label, title, yi in zip(labels, titles, Y):\n",
    "    print(f'{label:16} {title:25} {yi[0]:10.4f} {yi[1]:10.4f}')"
   ]
  },
  {
   "cell_type": "code",
   "execution_count": 92,
   "metadata": {},
   "outputs": [],
   "source": [
    "df = pd.DataFrame(Y, index=titles)\n",
    "df['label'] = labels"
   ]
  },
  {
   "cell_type": "code",
   "execution_count": 93,
   "metadata": {},
   "outputs": [],
   "source": [
    "colors = {'jazz_musicians': '#336699', 'scientists': '#339944', 'writers': '#CC3333'}"
   ]
  },
  {
   "cell_type": "code",
   "execution_count": 105,
   "metadata": {},
   "outputs": [
    {
     "data": {
      "image/png": "[encoded data removed]",
      "text/plain": [
       "<Figure size 432x288 with 1 Axes>"
      ]
     },
     "metadata": {
      "needs_background": "light"
     },
     "output_type": "display_data"
    }
   ],
   "source": [
    "fig, ax = plt.subplots()\n",
    "ax.scatter(x=df[0], y=df[1],\n",
    "           c=[colors[label] for label in df['label']],\n",
    "           s=80.0,\n",
    "           alpha=0.5)\n",
    "ax.grid(True)"
   ]
  },
  {
   "cell_type": "code",
   "execution_count": null,
   "metadata": {},
   "outputs": [],
   "source": []
  }
 ],
 "metadata": {
  "kernelspec": {
   "display_name": "Python 3",
   "language": "python",
   "name": "python3"
  },
  "language_info": {
   "codemirror_mode": {
    "name": "ipython",
    "version": 3
   },
   "file_extension": ".py",
   "mimetype": "text/x-python",
   "name": "python",
   "nbconvert_exporter": "python",
   "pygments_lexer": "ipython3",
   "version": "3.7.4"
  }
 },
 "nbformat": 4,
 "nbformat_minor": 2
}
