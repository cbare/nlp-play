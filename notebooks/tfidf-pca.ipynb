{
 "cells": [
  {
   "cell_type": "markdown",
   "metadata": {},
   "source": [
    "# Topic Vectors\n",
    "\n",
    "An experiment in creating document topic vectors by TFIDF and PCA."
   ]
  },
  {
   "cell_type": "markdown",
   "metadata": {},
   "source": [
    "## First step - get data\n",
    "\n",
    "Before running this notebook, we'll need to grab some text. Running `scripts/wikipedia_grab.py` will pull down text from Wikipedia articles. Here we'll attempt to discriminate topics based on TFIDF vectors squeeezed down by PCA."
   ]
  },
  {
   "cell_type": "code",
   "execution_count": 1,
   "metadata": {},
   "outputs": [],
   "source": [
    "import json\n",
    "from pathlib import Path"
   ]
  },
  {
   "cell_type": "code",
   "execution_count": 2,
   "metadata": {},
   "outputs": [],
   "source": [
    "from sklearn.feature_extraction.text import TfidfVectorizer\n",
    "from sklearn.decomposition import PCA"
   ]
  },
  {
   "cell_type": "code",
   "execution_count": 3,
   "metadata": {},
   "outputs": [],
   "source": [
    "import pandas as pd"
   ]
  },
  {
   "cell_type": "code",
   "execution_count": 8,
   "metadata": {},
   "outputs": [
    {
     "name": "stdout",
     "output_type": "stream",
     "text": [
      "/Users/christopherbare/Documents/personal/nlp-play\n"
     ]
    }
   ],
   "source": [
    "cd .."
   ]
  },
  {
   "cell_type": "code",
   "execution_count": 9,
   "metadata": {},
   "outputs": [],
   "source": [
    "path = Path('./data/')"
   ]
  },
  {
   "cell_type": "markdown",
   "metadata": {},
   "source": [
    "## Iterate documents\n",
    "\n",
    "After scraping documents from Wikipedia, we'll have subdirectories for each topic. We use a generator to read the files and yield JSON documents."
   ]
  },
  {
   "cell_type": "code",
   "execution_count": 10,
   "metadata": {},
   "outputs": [],
   "source": [
    "def iter_pages(path):\n",
    "    for d in path.iterdir():\n",
    "        if d.is_dir():\n",
    "            label = d.name\n",
    "            for p in d.iterdir():\n",
    "                with p.open() as f:\n",
    "                    page = json.load(f)\n",
    "                yield label, page"
   ]
  },
  {
   "cell_type": "code",
   "execution_count": 15,
   "metadata": {},
   "outputs": [],
   "source": [
    "xs = [(label, page['title']) for label, page in iter_pages(path)]\n",
    "labels, titles = zip(*xs)"
   ]
  },
  {
   "cell_type": "code",
   "execution_count": 16,
   "metadata": {},
   "outputs": [
    {
     "data": {
      "text/plain": [
       "90"
      ]
     },
     "execution_count": 16,
     "metadata": {},
     "output_type": "execute_result"
    }
   ],
   "source": [
    "len(titles)"
   ]
  },
  {
   "cell_type": "markdown",
   "metadata": {},
   "source": [
    "## Compute document vectors\n",
    "\n",
    "How much meaning can be crammed into 2 dimensions? Not much, I guess, but you can plot it, so let's try."
   ]
  },
  {
   "cell_type": "code",
   "execution_count": 72,
   "metadata": {},
   "outputs": [],
   "source": [
    "tfidf = TfidfVectorizer()\n",
    "X = tfidf.fit_transform(page['extract'] for label, page in iter_pages(path))"
   ]
  },
  {
   "cell_type": "code",
   "execution_count": 73,
   "metadata": {},
   "outputs": [],
   "source": [
    "pca = PCA(n_components=2)\n",
    "Y = pca.fit_transform(X.todense())"
   ]
  },
  {
   "cell_type": "code",
   "execution_count": 74,
   "metadata": {},
   "outputs": [
    {
     "name": "stdout",
     "output_type": "stream",
     "text": [
      "writers          Charles Dickens              -0.1315    -0.0998\n",
      "writers          Isaac Asimov                 -0.0826     0.0099\n",
      "writers          Neal Stephenson              -0.0335     0.0454\n",
      "writers          Jane Austen                  -0.0997     0.0442\n",
      "writers          Philip K. Dick               -0.1304    -0.0454\n",
      "writers          Jorge Luis Borges            -0.1283    -0.0235\n",
      "writers          Douglas Adams                -0.0663    -0.0372\n",
      "writers          Edgar Allan Poe               0.0574     0.1946\n",
      "writers          James Joyce                  -0.1168    -0.0668\n",
      "writers          Kurt Vonnegut                -0.0647    -0.0192\n",
      "writers          William Gibson               -0.1263    -0.0449\n",
      "writers          George Orwell                -0.1405    -0.1453\n",
      "writers          Don DeLillo                  -0.0820     0.0097\n",
      "writers          Dave Eggers                  -0.0935     0.0225\n",
      "writers          F. Scott Fitzgerald          -0.0409    -0.0331\n",
      "writers          Ursula K. Le Guin            -0.1251     0.0818\n",
      "writers          Margaret Atwood              -0.0878     0.1050\n",
      "writers          Jennifer Egan                 0.0053     0.1917\n",
      "writers          Frank Herbert                -0.0384     0.0449\n",
      "writers          Iain Banks                   -0.0768     0.0393\n",
      "writers          Ray Bradbury                 -0.0385     0.0041\n",
      "writers          E. B. White                  -0.1208    -0.0439\n",
      "writers          Franz Kafka                  -0.0777    -0.0210\n",
      "writers          Albert Camus                 -0.0719     0.0154\n",
      "writers          C. S. Lewis                  -0.1628    -0.1190\n",
      "writers          Haruki Murakami              -0.0423     0.0128\n",
      "writers          Ernest Hemingway             -0.1070    -0.1148\n",
      "writers          Mark Twain                   -0.1635    -0.1348\n",
      "writers          Cormac McCarthy              -0.0786    -0.0334\n",
      "writers          J. D. Salinger               -0.0669    -0.0100\n",
      "scientists       Barbara McClintock           -0.1256     0.1200\n",
      "scientists       John von Neumann             -0.1672     0.0316\n",
      "scientists       David Hilbert                -0.1347     0.0805\n",
      "scientists       Max Planck                   -0.1304     0.0109\n",
      "scientists       Gregor Mendel                -0.0438     0.1192\n",
      "scientists       Terence Tao                  -0.0603     0.1268\n",
      "scientists       Kurt Gödel                   -0.0876     0.0910\n",
      "scientists       Enrico Fermi                 -0.1289    -0.0043\n",
      "scientists       Henri Poincaré               -0.1021     0.1305\n",
      "scientists       Louis Pasteur                -0.0726     0.0347\n",
      "scientists       Noam Chomsky                 -0.0907     0.0014\n",
      "scientists       Charles Babbage              -0.1210     0.0865\n",
      "scientists       Alonzo Church                -0.0712     0.1362\n",
      "scientists       Marie Curie                  -0.1282     0.0965\n",
      "scientists       Albert Einstein              -0.1938    -0.0641\n",
      "scientists       Francis Crick                -0.1559     0.0831\n",
      "scientists       Linus Pauling                -0.1433     0.0271\n",
      "scientists       Frederick Sanger             -0.0909    -0.0113\n",
      "scientists       Paul Dirac                   -0.1381     0.0084\n",
      "scientists       Leonhard Euler               -0.1064     0.0723\n",
      "scientists       Charles Darwin               -0.1374    -0.0709\n",
      "scientists       James Watson                 -0.1364     0.0806\n",
      "scientists       Michael Faraday              -0.1057     0.0289\n",
      "scientists       Pierre de Fermat             -0.0278     0.1415\n",
      "scientists       Niels Bohr                   -0.1008     0.0281\n",
      "scientists       James Clerk Maxwell          -0.1850    -0.0174\n",
      "scientists       Claude Shannon               -0.0612     0.1097\n",
      "scientists       Thomas Bayes                 -0.0919     0.1242\n",
      "scientists       Alan Turing                  -0.1471    -0.0002\n",
      "scientists       Richard Feynman              -0.0865     0.0390\n",
      "scientists       Ada Lovelace                 -0.0661     0.1859\n",
      "scientists       Jonas Salk                   -0.0914    -0.0069\n",
      "scientists       Donald Knuth                 -0.0712     0.1248\n",
      "scientists       Rosalind Franklin            -0.1702     0.0884\n",
      "scientists       Dmitri Mendeleev             -0.1248     0.0161\n",
      "scientists       Isaac Newton                 -0.1878    -0.0219\n",
      "scientists       Carl Friedrich Gauss         -0.0986     0.0549\n",
      "jazz_musicians   Ron Carter                    0.3010    -0.1596\n",
      "jazz_musicians   Bill Evans                    0.2076    -0.2619\n",
      "jazz_musicians   Philly Joe Jones              0.6276     0.2321\n",
      "jazz_musicians   Hank Mobley                   0.2342    -0.1015\n",
      "jazz_musicians   Eddie Gómez                   0.4946     0.1296\n",
      "jazz_musicians   Sonny Clark                   0.6232     0.3670\n",
      "jazz_musicians   Herbie Hancock                0.1948    -0.2125\n",
      "jazz_musicians   McCoy Tyner                   0.2340    -0.2414\n",
      "jazz_musicians   Miles Davis                   0.1045    -0.3349\n",
      "jazz_musicians   Bud Powell                    0.2701     0.0010\n",
      "jazz_musicians   Jim Hall (musician)           0.2313    -0.2860\n",
      "jazz_musicians   John Coltrane                 0.1201    -0.2754\n",
      "jazz_musicians   Cannonball Adderley           0.2001    -0.1476\n",
      "jazz_musicians   Kenny Burrell                 0.6101     0.2872\n",
      "jazz_musicians   Charlie Parker                0.0931    -0.1929\n",
      "jazz_musicians   Wes Montgomery                0.2748    -0.0820\n",
      "jazz_musicians   Thelonious Monk               0.1662    -0.1619\n",
      "jazz_musicians   Paul Chambers                 0.2890    -0.2198\n",
      "jazz_musicians   Sonny Rollins                 0.1218    -0.2277\n",
      "jazz_musicians   Scott LaFaro                  0.2743    -0.1272\n",
      "jazz_musicians   Milt Jackson                  0.4038     0.0840\n",
      "jazz_musicians   Paul Motian                   0.2723    -0.0677\n",
      "jazz_musicians   Art Pepper                    0.3664     0.0880\n"
     ]
    }
   ],
   "source": [
    "for label, title, yi in zip(labels, titles, Y):\n",
    "    print(f'{label:16} {title:25} {yi[0]:10.4f} {yi[1]:10.4f}')"
   ]
  },
  {
   "cell_type": "code",
   "execution_count": 75,
   "metadata": {},
   "outputs": [],
   "source": [
    "df = pd.DataFrame(Y, index=titles, columns=[f'PC{i+1}' for i in range(Y.shape[1])])\n",
    "df['label'] = labels"
   ]
  },
  {
   "cell_type": "code",
   "execution_count": 76,
   "metadata": {},
   "outputs": [
    {
     "data": {
      "text/plain": [
       "Index(['PC1', 'PC2', 'label'], dtype='object')"
      ]
     },
     "execution_count": 76,
     "metadata": {},
     "output_type": "execute_result"
    }
   ],
   "source": [
    "df.columns"
   ]
  },
  {
   "cell_type": "code",
   "execution_count": 77,
   "metadata": {},
   "outputs": [],
   "source": [
    "df = df.reset_index().rename(columns={'index': 'title'})"
   ]
  },
  {
   "cell_type": "code",
   "execution_count": 78,
   "metadata": {},
   "outputs": [],
   "source": [
    "import altair as alt"
   ]
  },
  {
   "cell_type": "code",
   "execution_count": 79,
   "metadata": {},
   "outputs": [
    {
     "data": {
      "text/html": [
       "\n",
       "<div id=\"altair-viz-c96464d1cfc1497b8e16bd2833d1d448\"></div>\n",
       "<script type=\"text/javascript\">\n",
       "  (function(spec, embedOpt){\n",
       "    let outputDiv = document.currentScript.previousElementSibling;\n",
       "    if (outputDiv.id !== \"altair-viz-c96464d1cfc1497b8e16bd2833d1d448\") {\n",
       "      outputDiv = document.getElementById(\"altair-viz-c96464d1cfc1497b8e16bd2833d1d448\");\n",
       "    }\n",
       "    const paths = {\n",
       "      \"vega\": \"https://cdn.jsdelivr.net/npm//vega@5?noext\",\n",
       "      \"vega-lib\": \"https://cdn.jsdelivr.net/npm//vega-lib?noext\",\n",
       "      \"vega-lite\": \"https://cdn.jsdelivr.net/npm//vega-lite@4.8.1?noext\",\n",
       "      \"vega-embed\": \"https://cdn.jsdelivr.net/npm//vega-embed@6?noext\",\n",
       "    };\n",
       "\n",
       "    function loadScript(lib) {\n",
       "      return new Promise(function(resolve, reject) {\n",
       "        var s = document.createElement('script');\n",
       "        s.src = paths[lib];\n",
       "        s.async = true;\n",
       "        s.onload = () => resolve(paths[lib]);\n",
       "        s.onerror = () => reject(`Error loading script: ${paths[lib]}`);\n",
       "        document.getElementsByTagName(\"head\")[0].appendChild(s);\n",
       "      });\n",
       "    }\n",
       "\n",
       "    function showError(err) {\n",
       "      outputDiv.innerHTML = `<div class=\"error\" style=\"color:red;\">${err}</div>`;\n",
       "      throw err;\n",
       "    }\n",
       "\n",
       "    function displayChart(vegaEmbed) {\n",
       "      vegaEmbed(outputDiv, spec, embedOpt)\n",
       "        .catch(err => showError(`Javascript Error: ${err.message}<br>This usually means there's a typo in your chart specification. See the javascript console for the full traceback.`));\n",
       "    }\n",
       "\n",
       "    if(typeof define === \"function\" && define.amd) {\n",
       "      requirejs.config({paths});\n",
       "      require([\"vega-embed\"], displayChart, err => showError(`Error loading script: ${err.message}`));\n",
       "    } else if (typeof vegaEmbed === \"function\") {\n",
       "      displayChart(vegaEmbed);\n",
       "    } else {\n",
       "      loadScript(\"vega\")\n",
       "        .then(() => loadScript(\"vega-lite\"))\n",
       "        .then(() => loadScript(\"vega-embed\"))\n",
       "        .catch(showError)\n",
       "        .then(() => displayChart(vegaEmbed));\n",
       "    }\n",
       "  })({\"config\": {\"view\": {\"continuousWidth\": 400, \"continuousHeight\": 300}}, \"data\": {\"name\": \"data-56c9204c98d5fa2aeabc275b36c11dfa\"}, \"mark\": {\"type\": \"circle\", \"opacity\": 0.5, \"size\": 120}, \"encoding\": {\"color\": {\"type\": \"nominal\", \"field\": \"label\", \"scale\": {\"scheme\": \"category10\"}}, \"tooltip\": [{\"type\": \"nominal\", \"field\": \"title\"}, {\"type\": \"nominal\", \"field\": \"label\"}, {\"type\": \"quantitative\", \"field\": \"PC1\"}, {\"type\": \"quantitative\", \"field\": \"PC2\"}], \"x\": {\"type\": \"quantitative\", \"field\": \"PC1\"}, \"y\": {\"type\": \"quantitative\", \"field\": \"PC2\"}}, \"selection\": {\"selector020\": {\"type\": \"interval\", \"bind\": \"scales\", \"encodings\": [\"x\", \"y\"]}}, \"$schema\": \"https://vega.github.io/schema/vega-lite/v4.8.1.json\", \"datasets\": {\"data-56c9204c98d5fa2aeabc275b36c11dfa\": [{\"title\": \"Charles Dickens\", \"PC1\": -0.1314806042312318, \"PC2\": -0.09983487413328383, \"label\": \"writers\"}, {\"title\": \"Isaac Asimov\", \"PC1\": -0.08264340796332009, \"PC2\": 0.009926621251498124, \"label\": \"writers\"}, {\"title\": \"Neal Stephenson\", \"PC1\": -0.03350198982549967, \"PC2\": 0.04535696520915348, \"label\": \"writers\"}, {\"title\": \"Jane Austen\", \"PC1\": -0.09970571680791016, \"PC2\": 0.04422732812438756, \"label\": \"writers\"}, {\"title\": \"Philip K. Dick\", \"PC1\": -0.13041489677676368, \"PC2\": -0.045395315726761025, \"label\": \"writers\"}, {\"title\": \"Jorge Luis Borges\", \"PC1\": -0.1282952992608889, \"PC2\": -0.02351511925006163, \"label\": \"writers\"}, {\"title\": \"Douglas Adams\", \"PC1\": -0.0663397298255629, \"PC2\": -0.03723134360911351, \"label\": \"writers\"}, {\"title\": \"Edgar Allan Poe\", \"PC1\": 0.057410617220766576, \"PC2\": 0.19455214158997874, \"label\": \"writers\"}, {\"title\": \"James Joyce\", \"PC1\": -0.11677609637167866, \"PC2\": -0.06682545200666921, \"label\": \"writers\"}, {\"title\": \"Kurt Vonnegut\", \"PC1\": -0.0646565537051484, \"PC2\": -0.01917116216598576, \"label\": \"writers\"}, {\"title\": \"William Gibson\", \"PC1\": -0.12626062865380155, \"PC2\": -0.04493623231658125, \"label\": \"writers\"}, {\"title\": \"George Orwell\", \"PC1\": -0.14053518090513595, \"PC2\": -0.14530326113943312, \"label\": \"writers\"}, {\"title\": \"Don DeLillo\", \"PC1\": -0.08200373678582072, \"PC2\": 0.009718386857755789, \"label\": \"writers\"}, {\"title\": \"Dave Eggers\", \"PC1\": -0.09349483276255979, \"PC2\": 0.02250519347341776, \"label\": \"writers\"}, {\"title\": \"F. Scott Fitzgerald\", \"PC1\": -0.04093188922264337, \"PC2\": -0.03314163065257623, \"label\": \"writers\"}, {\"title\": \"Ursula K. Le Guin\", \"PC1\": -0.1250505187223088, \"PC2\": 0.08175261815901201, \"label\": \"writers\"}, {\"title\": \"Margaret Atwood\", \"PC1\": -0.08781892893066337, \"PC2\": 0.10498337631621749, \"label\": \"writers\"}, {\"title\": \"Jennifer Egan\", \"PC1\": 0.005250529840992247, \"PC2\": 0.1917062960292767, \"label\": \"writers\"}, {\"title\": \"Frank Herbert\", \"PC1\": -0.038398244501934777, \"PC2\": 0.04491837058020763, \"label\": \"writers\"}, {\"title\": \"Iain Banks\", \"PC1\": -0.0768449606215754, \"PC2\": 0.0393047619032388, \"label\": \"writers\"}, {\"title\": \"Ray Bradbury\", \"PC1\": -0.038532127194129684, \"PC2\": 0.004140375663210936, \"label\": \"writers\"}, {\"title\": \"E. B. White\", \"PC1\": -0.12081292187163158, \"PC2\": -0.043855756050630364, \"label\": \"writers\"}, {\"title\": \"Franz Kafka\", \"PC1\": -0.07774419560200842, \"PC2\": -0.021015672016504675, \"label\": \"writers\"}, {\"title\": \"Albert Camus\", \"PC1\": -0.07186414265080597, \"PC2\": 0.015423951096924024, \"label\": \"writers\"}, {\"title\": \"C. S. Lewis\", \"PC1\": -0.16277535883533029, \"PC2\": -0.11895625228493911, \"label\": \"writers\"}, {\"title\": \"Haruki Murakami\", \"PC1\": -0.04226248414056297, \"PC2\": 0.012768706886252763, \"label\": \"writers\"}, {\"title\": \"Ernest Hemingway\", \"PC1\": -0.1069536294111397, \"PC2\": -0.11482665182071525, \"label\": \"writers\"}, {\"title\": \"Mark Twain\", \"PC1\": -0.16347978816290687, \"PC2\": -0.13484721207748895, \"label\": \"writers\"}, {\"title\": \"Cormac McCarthy\", \"PC1\": -0.07862462535692212, \"PC2\": -0.03335319386456197, \"label\": \"writers\"}, {\"title\": \"J. D. Salinger\", \"PC1\": -0.06689040451981597, \"PC2\": -0.01004191760849664, \"label\": \"writers\"}, {\"title\": \"Barbara McClintock\", \"PC1\": -0.1256421479967284, \"PC2\": 0.12003890115473868, \"label\": \"scientists\"}, {\"title\": \"John von Neumann\", \"PC1\": -0.16717262871165212, \"PC2\": 0.0315921486860471, \"label\": \"scientists\"}, {\"title\": \"David Hilbert\", \"PC1\": -0.13467772986386312, \"PC2\": 0.08051194896637133, \"label\": \"scientists\"}, {\"title\": \"Max Planck\", \"PC1\": -0.1303740655022222, \"PC2\": 0.010911594693074641, \"label\": \"scientists\"}, {\"title\": \"Gregor Mendel\", \"PC1\": -0.04381482068420095, \"PC2\": 0.11919765313503862, \"label\": \"scientists\"}, {\"title\": \"Terence Tao\", \"PC1\": -0.06030469922897326, \"PC2\": 0.12684459931568876, \"label\": \"scientists\"}, {\"title\": \"Kurt G\\u00f6del\", \"PC1\": -0.08756643836334221, \"PC2\": 0.09101163198501158, \"label\": \"scientists\"}, {\"title\": \"Enrico Fermi\", \"PC1\": -0.1288731082112626, \"PC2\": -0.004302421849222055, \"label\": \"scientists\"}, {\"title\": \"Henri Poincar\\u00e9\", \"PC1\": -0.10211475671748833, \"PC2\": 0.13045601885774444, \"label\": \"scientists\"}, {\"title\": \"Louis Pasteur\", \"PC1\": -0.0726068207138608, \"PC2\": 0.03473832997724391, \"label\": \"scientists\"}, {\"title\": \"Noam Chomsky\", \"PC1\": -0.09067972871946889, \"PC2\": 0.0014100673845757247, \"label\": \"scientists\"}, {\"title\": \"Charles Babbage\", \"PC1\": -0.12095949240380852, \"PC2\": 0.08653718208349971, \"label\": \"scientists\"}, {\"title\": \"Alonzo Church\", \"PC1\": -0.07123149275619914, \"PC2\": 0.13624855352811227, \"label\": \"scientists\"}, {\"title\": \"Marie Curie\", \"PC1\": -0.12823014170937203, \"PC2\": 0.09646273051880022, \"label\": \"scientists\"}, {\"title\": \"Albert Einstein\", \"PC1\": -0.19376716653768383, \"PC2\": -0.06410745318645177, \"label\": \"scientists\"}, {\"title\": \"Francis Crick\", \"PC1\": -0.155903075253354, \"PC2\": 0.08305502314531725, \"label\": \"scientists\"}, {\"title\": \"Linus Pauling\", \"PC1\": -0.14328898503181045, \"PC2\": 0.02707052579090657, \"label\": \"scientists\"}, {\"title\": \"Frederick Sanger\", \"PC1\": -0.09093046431945508, \"PC2\": -0.011263151804985182, \"label\": \"scientists\"}, {\"title\": \"Paul Dirac\", \"PC1\": -0.13805260406025313, \"PC2\": 0.008449956748841659, \"label\": \"scientists\"}, {\"title\": \"Leonhard Euler\", \"PC1\": -0.1063914147109791, \"PC2\": 0.07226617915724844, \"label\": \"scientists\"}, {\"title\": \"Charles Darwin\", \"PC1\": -0.13741410367396079, \"PC2\": -0.07087636127116229, \"label\": \"scientists\"}, {\"title\": \"James Watson\", \"PC1\": -0.1363605651799789, \"PC2\": 0.08063310108142768, \"label\": \"scientists\"}, {\"title\": \"Michael Faraday\", \"PC1\": -0.10574528655144909, \"PC2\": 0.028896221961655998, \"label\": \"scientists\"}, {\"title\": \"Pierre de Fermat\", \"PC1\": -0.027769090323867797, \"PC2\": 0.1415384368051915, \"label\": \"scientists\"}, {\"title\": \"Niels Bohr\", \"PC1\": -0.10083355165126172, \"PC2\": 0.028095613083163242, \"label\": \"scientists\"}, {\"title\": \"James Clerk Maxwell\", \"PC1\": -0.18500681370307331, \"PC2\": -0.01740808720592699, \"label\": \"scientists\"}, {\"title\": \"Claude Shannon\", \"PC1\": -0.061219287712460706, \"PC2\": 0.10972205954422917, \"label\": \"scientists\"}, {\"title\": \"Thomas Bayes\", \"PC1\": -0.09185854121063527, \"PC2\": 0.12421273065700122, \"label\": \"scientists\"}, {\"title\": \"Alan Turing\", \"PC1\": -0.1470574204837964, \"PC2\": -0.00023809772907325426, \"label\": \"scientists\"}, {\"title\": \"Richard Feynman\", \"PC1\": -0.086511586036757, \"PC2\": 0.03902346131120692, \"label\": \"scientists\"}, {\"title\": \"Ada Lovelace\", \"PC1\": -0.06614397570257129, \"PC2\": 0.1859315265618237, \"label\": \"scientists\"}, {\"title\": \"Jonas Salk\", \"PC1\": -0.09139182636294249, \"PC2\": -0.006912264622199502, \"label\": \"scientists\"}, {\"title\": \"Donald Knuth\", \"PC1\": -0.07116357791013073, \"PC2\": 0.12476144540997658, \"label\": \"scientists\"}, {\"title\": \"Rosalind Franklin\", \"PC1\": -0.1702417651052441, \"PC2\": 0.08837128392105198, \"label\": \"scientists\"}, {\"title\": \"Dmitri Mendeleev\", \"PC1\": -0.12479025313631806, \"PC2\": 0.01606399419257319, \"label\": \"scientists\"}, {\"title\": \"Isaac Newton\", \"PC1\": -0.18778911704818405, \"PC2\": -0.021939210336124244, \"label\": \"scientists\"}, {\"title\": \"Carl Friedrich Gauss\", \"PC1\": -0.09864215440978817, \"PC2\": 0.0548969907045622, \"label\": \"scientists\"}, {\"title\": \"Ron Carter\", \"PC1\": 0.30096716505187343, \"PC2\": -0.15955797711643144, \"label\": \"jazz_musicians\"}, {\"title\": \"Bill Evans\", \"PC1\": 0.2075689924118421, \"PC2\": -0.26188594531853965, \"label\": \"jazz_musicians\"}, {\"title\": \"Philly Joe Jones\", \"PC1\": 0.6276361923246402, \"PC2\": 0.23206891073395478, \"label\": \"jazz_musicians\"}, {\"title\": \"Hank Mobley\", \"PC1\": 0.23420517351585024, \"PC2\": -0.10148456296992325, \"label\": \"jazz_musicians\"}, {\"title\": \"Eddie G\\u00f3mez\", \"PC1\": 0.49464164235554303, \"PC2\": 0.1296343001761559, \"label\": \"jazz_musicians\"}, {\"title\": \"Sonny Clark\", \"PC1\": 0.6232237178821644, \"PC2\": 0.36704913339045964, \"label\": \"jazz_musicians\"}, {\"title\": \"Herbie Hancock\", \"PC1\": 0.19483708237636685, \"PC2\": -0.21247711653366363, \"label\": \"jazz_musicians\"}, {\"title\": \"McCoy Tyner\", \"PC1\": 0.23402241292428239, \"PC2\": -0.24144815995419824, \"label\": \"jazz_musicians\"}, {\"title\": \"Miles Davis\", \"PC1\": 0.10452111081483559, \"PC2\": -0.33492425245412905, \"label\": \"jazz_musicians\"}, {\"title\": \"Bud Powell\", \"PC1\": 0.27009806166014666, \"PC2\": 0.0009574230239138289, \"label\": \"jazz_musicians\"}, {\"title\": \"Jim Hall (musician)\", \"PC1\": 0.23127990173650226, \"PC2\": -0.28602537264595285, \"label\": \"jazz_musicians\"}, {\"title\": \"John Coltrane\", \"PC1\": 0.12009623487563297, \"PC2\": -0.2753575077233978, \"label\": \"jazz_musicians\"}, {\"title\": \"Cannonball Adderley\", \"PC1\": 0.2001303704579311, \"PC2\": -0.147557077690644, \"label\": \"jazz_musicians\"}, {\"title\": \"Kenny Burrell\", \"PC1\": 0.610134895208635, \"PC2\": 0.28723439818022517, \"label\": \"jazz_musicians\"}, {\"title\": \"Charlie Parker\", \"PC1\": 0.0930846911084599, \"PC2\": -0.19287749839586577, \"label\": \"jazz_musicians\"}, {\"title\": \"Wes Montgomery\", \"PC1\": 0.27477737593173734, \"PC2\": -0.08200212373477635, \"label\": \"jazz_musicians\"}, {\"title\": \"Thelonious Monk\", \"PC1\": 0.16623692916646995, \"PC2\": -0.16190811450855688, \"label\": \"jazz_musicians\"}, {\"title\": \"Paul Chambers\", \"PC1\": 0.28900056512367167, \"PC2\": -0.2198347269644318, \"label\": \"jazz_musicians\"}, {\"title\": \"Sonny Rollins\", \"PC1\": 0.12182820672659261, \"PC2\": -0.22768041274427273, \"label\": \"jazz_musicians\"}, {\"title\": \"Scott LaFaro\", \"PC1\": 0.27428407123093873, \"PC2\": -0.12720643202967377, \"label\": \"jazz_musicians\"}, {\"title\": \"Milt Jackson\", \"PC1\": 0.40376305872941193, \"PC2\": 0.08400715738852076, \"label\": \"jazz_musicians\"}, {\"title\": \"Paul Motian\", \"PC1\": 0.2722511081587874, \"PC2\": -0.06765100400941279, \"label\": \"jazz_musicians\"}, {\"title\": \"Art Pepper\", \"PC1\": 0.36636348448402206, \"PC2\": 0.08799005312692862, \"label\": \"jazz_musicians\"}]}}, {\"mode\": \"vega-lite\"});\n",
       "</script>"
      ],
      "text/plain": [
       "alt.Chart(...)"
      ]
     },
     "execution_count": 79,
     "metadata": {},
     "output_type": "execute_result"
    }
   ],
   "source": [
    "alt.Chart(df).mark_circle(opacity=0.5, size=120).encode(\n",
    "    x='PC1',\n",
    "    y='PC2',\n",
    "    color=alt.Color('label', scale=alt.Scale(scheme='category10')),\n",
    "    tooltip=['title', 'label', 'PC1', 'PC2']\n",
    ").interactive()"
   ]
  },
  {
   "cell_type": "code",
   "execution_count": null,
   "metadata": {},
   "outputs": [],
   "source": []
  }
 ],
 "metadata": {
  "kernelspec": {
   "display_name": "Python 3",
   "language": "python",
   "name": "python3"
  },
  "language_info": {
   "codemirror_mode": {
    "name": "ipython",
    "version": 3
   },
   "file_extension": ".py",
   "mimetype": "text/x-python",
   "name": "python",
   "nbconvert_exporter": "python",
   "pygments_lexer": "ipython3",
   "version": "3.7.4"
  }
 },
 "nbformat": 4,
 "nbformat_minor": 2
}
